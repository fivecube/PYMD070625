{
 "cells": [
  {
   "cell_type": "code",
   "execution_count": 6,
   "id": "1310bf0a-18fb-48f5-a48a-ee4ce90621e0",
   "metadata": {},
   "outputs": [],
   "source": [
    "# Installing Python on your system\n",
    "# Different systems install python differently\n",
    "\n",
    "# Link to download python (3.10) -> https://www.python.org/downloads/\n",
    "\n",
    "# Code Editor -> Pycharm Community Version, Visual Code, Jupyter Notebook\n",
    "\n",
    "# Jupyter notebook:-\n",
    "pip install notebook\n",
    "jupyter notebook\n",
    "\n",
    "# Beginner friendly:-\n",
    "1. Python 3.10, https://www.python.org/downloads/\n",
    "2. Jupyter Notebook,  pip install notebook on your command prompt after you're done installing python.\n",
    "3. command to open notebook:- jupyter notebook\n",
    "\n",
    "\n",
    "\n",
    "If you want to do coding online:- https://www.programiz.com/python-programming/online-compiler/"
   ]
  },
  {
   "cell_type": "code",
   "execution_count": 7,
   "id": "bdd7a060-14d3-49d6-aa06-ceea8bd97e57",
   "metadata": {},
   "outputs": [
    {
     "name": "stdout",
     "output_type": "stream",
     "text": [
      "hello world\n"
     ]
    }
   ],
   "source": [
    "print(\"hello world\")"
   ]
  },
  {
   "cell_type": "code",
   "execution_count": 17,
   "id": "5e4141ed-f17c-4570-b985-77575cf592b3",
   "metadata": {},
   "outputs": [
    {
     "name": "stdout",
     "output_type": "stream",
     "text": [
      "miraj\n",
      "mig27\n",
      "m-15\n"
     ]
    }
   ],
   "source": [
    "aircrafts = [\"rafale\", \"su30\", \"tejas\", \"miraj\", \"mig27\", \"eurofighter\", \"m-15\"]\n",
    "\n",
    "for air_craft in aircrafts:\n",
    "    if air_craft[0] == \"m\":\n",
    "        print(air_craft)"
   ]
  },
  {
   "cell_type": "code",
   "execution_count": 13,
   "id": "95423ad3-1b9a-4d6a-9d75-2b024850ed09",
   "metadata": {},
   "outputs": [
    {
     "data": {
      "text/plain": [
       "['rafale', 'su30', 'tejas', 'miraj', 'mig27', 'eurofighter']"
      ]
     },
     "execution_count": 13,
     "metadata": {},
     "output_type": "execute_result"
    }
   ],
   "source": [
    "aircrafts"
   ]
  },
  {
   "cell_type": "code",
   "execution_count": 16,
   "id": "a8d0f22f-8b42-4e50-b931-2445335d72f0",
   "metadata": {},
   "outputs": [
    {
     "name": "stdout",
     "output_type": "stream",
     "text": [
      "300\n"
     ]
    }
   ],
   "source": [
    "print(x)"
   ]
  },
  {
   "cell_type": "code",
   "execution_count": 15,
   "id": "16402570-dd69-4e03-876a-bd4eab38c0cc",
   "metadata": {},
   "outputs": [
    {
     "name": "stdout",
     "output_type": "stream",
     "text": [
      "Hi I am learning Python\n"
     ]
    }
   ],
   "source": [
    "print('Hi I am learning Python')\n",
    "\n",
    "x = 300"
   ]
  },
  {
   "cell_type": "code",
   "execution_count": null,
   "id": "b9d18c05-2adc-4db5-8fc2-e2cc585e5b66",
   "metadata": {},
   "outputs": [],
   "source": [
    "English Grammar teaches us syntax of using English\n",
    "\n",
    "Correct Sentence :- My Name is Mohit Chouhan\n",
    "\n",
    "Wrong Sentence :- Name Mohit Chouhan is My\n",
    "\n",
    "Python Interpreter acts as a grammar nazy and it will result in an error if you write in a bad syntax.\n",
    "\n",
    "print('hello world')"
   ]
  },
  {
   "cell_type": "code",
   "execution_count": 19,
   "id": "18479891-e75c-43ce-91b1-04748da20475",
   "metadata": {},
   "outputs": [
    {
     "name": "stdout",
     "output_type": "stream",
     "text": [
      "I wished I could be a Suadron Leader myself!\n"
     ]
    }
   ],
   "source": [
    "print('I wished I could be a Suadron Leader myself!')"
   ]
  },
  {
   "cell_type": "code",
   "execution_count": 20,
   "id": "c615451f-2d60-4071-b677-40c2f6a044ae",
   "metadata": {},
   "outputs": [
    {
     "ename": "NameError",
     "evalue": "name 'pirnt' is not defined",
     "output_type": "error",
     "traceback": [
      "\u001b[31m---------------------------------------------------------------------------\u001b[39m",
      "\u001b[31mNameError\u001b[39m                                 Traceback (most recent call last)",
      "\u001b[36mCell\u001b[39m\u001b[36m \u001b[39m\u001b[32mIn[20]\u001b[39m\u001b[32m, line 1\u001b[39m\n\u001b[32m----> \u001b[39m\u001b[32m1\u001b[39m \u001b[43mpirnt\u001b[49m(\u001b[33m\"\u001b[39m\u001b[33mI want to learn python so that I can program drone chips to design their behaviour and control them better\u001b[39m\u001b[33m\"\u001b[39m)\n",
      "\u001b[31mNameError\u001b[39m: name 'pirnt' is not defined"
     ]
    }
   ],
   "source": [
    "pirnt(\"I want to learn python so that I can program drone chips to design their behaviour and control them better\")"
   ]
  },
  {
   "cell_type": "code",
   "execution_count": 22,
   "id": "17ce2eb6-a8c3-44d0-97d9-072bb1b95e63",
   "metadata": {},
   "outputs": [],
   "source": [
    "# Data Types\n",
    "\n",
    "Milk & Water can be stored in Bottle\n",
    "\n",
    "Rice can be stored in Bowl\n",
    "\n",
    "Chapatai/Roti can be stored in HotCase"
   ]
  },
  {
   "cell_type": "code",
   "execution_count": null,
   "id": "7a45c83c-b75c-4d34-b2a8-af85e88be80b",
   "metadata": {},
   "outputs": [],
   "source": [
    "# Data Types in Python (Containers)\n",
    "\n",
    "1. int :- Numbers with signs and without decimals\n",
    "2. float:- Numbers with decimals\n",
    "3. bool:- True or False\n",
    "4. str:- \"Shankar\", \"The quick lazy fox jumps over a crazy dog\"\n",
    "\n",
    "\n",
    "5. list:- [] - empty list\n",
    "          [\"rafale\", \"su30\", \"tejas\", \"miraj\", \"mig27\", \"eurofighter\", \"m-15\"] - list with 7 str\n",
    "6. tuple:- ('apple', 'mango') - tuple of 2 str\n",
    "            (True, False, 23, 45.23) tuple of mixed data types\n",
    "7. dict:- {\"Mohit\" : False, \"Shankar\": True, \"Prince\" : True, \"Senthil\": True} - mapping of key value"
   ]
  },
  {
   "cell_type": "code",
   "execution_count": 23,
   "id": "c3106f16-436f-406d-9a5d-2d006d7e85dc",
   "metadata": {},
   "outputs": [],
   "source": [
    "x = 3.4"
   ]
  },
  {
   "cell_type": "code",
   "execution_count": 24,
   "id": "c2a28c8d-aed9-46a7-95a1-5319c49a697a",
   "metadata": {},
   "outputs": [
    {
     "data": {
      "text/plain": [
       "float"
      ]
     },
     "execution_count": 24,
     "metadata": {},
     "output_type": "execute_result"
    }
   ],
   "source": [
    "type(x)"
   ]
  },
  {
   "cell_type": "code",
   "execution_count": 25,
   "id": "5fa80107-dcc2-4d59-97fc-35fe8099cad8",
   "metadata": {},
   "outputs": [],
   "source": [
    "x = 3\n",
    "x is just a name\n",
    "3 is an integer object in memory(RAM)"
   ]
  },
  {
   "cell_type": "code",
   "execution_count": 26,
   "id": "1d666b35-9bc9-43e7-802f-e1fe0c6f18e9",
   "metadata": {},
   "outputs": [
    {
     "data": {
      "text/plain": [
       "int"
      ]
     },
     "execution_count": 26,
     "metadata": {},
     "output_type": "execute_result"
    }
   ],
   "source": [
    "type(x)"
   ]
  },
  {
   "cell_type": "code",
   "execution_count": 27,
   "id": "e9f6af6c-bad1-4194-b35f-b6e5ebf357d1",
   "metadata": {},
   "outputs": [
    {
     "data": {
      "text/plain": [
       "int"
      ]
     },
     "execution_count": 27,
     "metadata": {},
     "output_type": "execute_result"
    }
   ],
   "source": [
    "x = -5\n",
    "type(x)"
   ]
  },
  {
   "cell_type": "code",
   "execution_count": 28,
   "id": "b7f96d3f-f442-4e42-b0b7-6631a261e373",
   "metadata": {},
   "outputs": [
    {
     "data": {
      "text/plain": [
       "float"
      ]
     },
     "execution_count": 28,
     "metadata": {},
     "output_type": "execute_result"
    }
   ],
   "source": [
    "x = -5.5\n",
    "type(x)"
   ]
  },
  {
   "cell_type": "code",
   "execution_count": null,
   "id": "afeebc25-e55b-4487-ab4f-7d6745fd6cad",
   "metadata": {},
   "outputs": [],
   "source": [
    "y = 3"
   ]
  },
  {
   "cell_type": "code",
   "execution_count": 29,
   "id": "ad45a95c-b95d-4e9e-9a6d-a0c43bd40ae9",
   "metadata": {},
   "outputs": [
    {
     "ename": "NameError",
     "evalue": "name 'true' is not defined",
     "output_type": "error",
     "traceback": [
      "\u001b[31m---------------------------------------------------------------------------\u001b[39m",
      "\u001b[31mNameError\u001b[39m                                 Traceback (most recent call last)",
      "\u001b[36mCell\u001b[39m\u001b[36m \u001b[39m\u001b[32mIn[29]\u001b[39m\u001b[32m, line 1\u001b[39m\n\u001b[32m----> \u001b[39m\u001b[32m1\u001b[39m \u001b[43mtrue\u001b[49m\n",
      "\u001b[31mNameError\u001b[39m: name 'true' is not defined"
     ]
    }
   ],
   "source": [
    "true"
   ]
  },
  {
   "cell_type": "code",
   "execution_count": 30,
   "id": "5c6a2db1-c3a4-4e2a-859d-1de7f6a81fb6",
   "metadata": {},
   "outputs": [
    {
     "data": {
      "text/plain": [
       "True"
      ]
     },
     "execution_count": 30,
     "metadata": {},
     "output_type": "execute_result"
    }
   ],
   "source": [
    "True"
   ]
  },
  {
   "cell_type": "code",
   "execution_count": 31,
   "id": "e16b0c91-c03f-468e-a93d-f87e6beb1f97",
   "metadata": {},
   "outputs": [
    {
     "data": {
      "text/plain": [
       "7"
      ]
     },
     "execution_count": 31,
     "metadata": {},
     "output_type": "execute_result"
    }
   ],
   "source": [
    "len([\"rafale\", \"su30\", \"tejas\", \"miraj\", \"mig27\", \"eurofighter\", \"m-15\"])"
   ]
  },
  {
   "cell_type": "code",
   "execution_count": 35,
   "id": "3eb558d4-50cc-43ff-9e57-647c75a00b1e",
   "metadata": {},
   "outputs": [
    {
     "name": "stdout",
     "output_type": "stream",
     "text": [
      "Mohit failed the exam\n",
      "Shankar passed the exam\n",
      "Prince passed the exam\n",
      "Senthil passed the exam\n",
      "Rohit failed the exam\n"
     ]
    }
   ],
   "source": [
    "exam_results = {\"Mohit\" : False, \"Shankar\": True, \"Prince\" : True, \"Senthil\": True, \"Rohit\": False}\n",
    "\n",
    "\n",
    "\n",
    "for person, result in exam_results.items():\n",
    "    if result == True:\n",
    "        print(f\"{person} passed the exam\")\n",
    "    else:\n",
    "        print(f\"{person} failed the exam\")"
   ]
  },
  {
   "cell_type": "code",
   "execution_count": null,
   "id": "83e36799-e897-4dd4-bd41-9f83a59122ed",
   "metadata": {},
   "outputs": [],
   "source": [
    "# Variables and operators\n",
    "\n",
    "names are Variables.\n",
    "\n",
    "a = 45.45\n",
    "\n",
    "a is a Variable."
   ]
  },
  {
   "cell_type": "code",
   "execution_count": 36,
   "id": "2803f55f-ab1a-452d-9749-7e664351ccc8",
   "metadata": {},
   "outputs": [],
   "source": [
    "a = 45"
   ]
  },
  {
   "cell_type": "code",
   "execution_count": 37,
   "id": "b633552b-459d-4745-b0df-287ee45a4556",
   "metadata": {},
   "outputs": [
    {
     "data": {
      "text/plain": [
       "45"
      ]
     },
     "execution_count": 37,
     "metadata": {},
     "output_type": "execute_result"
    }
   ],
   "source": [
    "a"
   ]
  },
  {
   "cell_type": "code",
   "execution_count": 38,
   "id": "ebf56cec-f87c-445e-a398-b2f1d6a2539f",
   "metadata": {},
   "outputs": [],
   "source": [
    "a = 67"
   ]
  },
  {
   "cell_type": "code",
   "execution_count": 39,
   "id": "13f292d0-c847-438e-ac2e-b0d1b2bfc469",
   "metadata": {},
   "outputs": [
    {
     "data": {
      "text/plain": [
       "67"
      ]
     },
     "execution_count": 39,
     "metadata": {},
     "output_type": "execute_result"
    }
   ],
   "source": [
    "a"
   ]
  },
  {
   "cell_type": "code",
   "execution_count": 40,
   "id": "3dfb65b3-7af7-438b-a4c2-da50684f9ec7",
   "metadata": {},
   "outputs": [],
   "source": [
    "# Operators\n",
    "\n",
    "# 1. Airthmetic:- +, -, *, /\n",
    "x = 4+5\n",
    "y = 5-4\n",
    "z = 4*5\n",
    "a = 20/5\n",
    "\n",
    "# 2. Assignment Operator:- = , \n",
    "=\n",
    "-=\n",
    "+=\n",
    "\n"
   ]
  },
  {
   "cell_type": "code",
   "execution_count": 41,
   "id": "b7c4c419-d1f3-40f1-8f76-cd15dbfb91b4",
   "metadata": {},
   "outputs": [
    {
     "data": {
      "text/plain": [
       "9"
      ]
     },
     "execution_count": 41,
     "metadata": {},
     "output_type": "execute_result"
    }
   ],
   "source": [
    "4+5"
   ]
  },
  {
   "cell_type": "code",
   "execution_count": 44,
   "id": "377aa6f5-aa34-4115-b601-aaa992384df3",
   "metadata": {},
   "outputs": [],
   "source": [
    "x = 4+5\n",
    "y = 5-4\n",
    "z = 4*5\n",
    "a = 20/5"
   ]
  },
  {
   "cell_type": "code",
   "execution_count": 45,
   "id": "437b883a-ea4e-4b0a-a0f5-265194cbbebd",
   "metadata": {},
   "outputs": [
    {
     "data": {
      "text/plain": [
       "9"
      ]
     },
     "execution_count": 45,
     "metadata": {},
     "output_type": "execute_result"
    }
   ],
   "source": [
    "x"
   ]
  },
  {
   "cell_type": "code",
   "execution_count": 46,
   "id": "63fa0751-e7ce-42a6-953d-021e572d188b",
   "metadata": {},
   "outputs": [
    {
     "name": "stdout",
     "output_type": "stream",
     "text": [
      "9 1\n"
     ]
    }
   ],
   "source": [
    "print(x,y)"
   ]
  },
  {
   "cell_type": "code",
   "execution_count": 47,
   "id": "ee651943-81af-4a2a-92dd-c19e707eba6f",
   "metadata": {},
   "outputs": [
    {
     "name": "stdout",
     "output_type": "stream",
     "text": [
      "20 4.0 mango\n"
     ]
    }
   ],
   "source": [
    "print(z, a, \"mango\")"
   ]
  },
  {
   "cell_type": "code",
   "execution_count": 48,
   "id": "b1bb502c-347b-4f2d-badc-41371db63843",
   "metadata": {},
   "outputs": [
    {
     "name": "stdout",
     "output_type": "stream",
     "text": [
      "12\n"
     ]
    }
   ],
   "source": [
    "x = 9  #mohits bank account money\n",
    "x += 3\n",
    "print(x)"
   ]
  },
  {
   "cell_type": "code",
   "execution_count": 50,
   "id": "96ea4f03-656c-4f49-87d6-33d89bbfb885",
   "metadata": {},
   "outputs": [],
   "source": [
    "# x = x + 3\n",
    "# is written in shortcut fancy manner like x += 3"
   ]
  },
  {
   "cell_type": "code",
   "execution_count": 51,
   "id": "a164ad13-9a7e-4b8c-9945-c6d953fbd629",
   "metadata": {},
   "outputs": [
    {
     "name": "stdout",
     "output_type": "stream",
     "text": [
      "12\n"
     ]
    }
   ],
   "source": [
    "x = 9\n",
    "x = x + 3\n",
    "print(x)"
   ]
  },
  {
   "cell_type": "code",
   "execution_count": 52,
   "id": "f8e582cd-ab68-40c5-b623-9ad458348356",
   "metadata": {},
   "outputs": [
    {
     "name": "stdout",
     "output_type": "stream",
     "text": [
      "7\n"
     ]
    }
   ],
   "source": [
    "x -= 5\n",
    "print(x)"
   ]
  },
  {
   "cell_type": "code",
   "execution_count": null,
   "id": "a37201dd-ace0-4b02-82e7-d6347e8c0687",
   "metadata": {},
   "outputs": [],
   "source": []
  }
 ],
 "metadata": {
  "kernelspec": {
   "display_name": "Python 3 (ipykernel)",
   "language": "python",
   "name": "python3"
  },
  "language_info": {
   "codemirror_mode": {
    "name": "ipython",
    "version": 3
   },
   "file_extension": ".py",
   "mimetype": "text/x-python",
   "name": "python",
   "nbconvert_exporter": "python",
   "pygments_lexer": "ipython3",
   "version": "3.13.2"
  }
 },
 "nbformat": 4,
 "nbformat_minor": 5
}
