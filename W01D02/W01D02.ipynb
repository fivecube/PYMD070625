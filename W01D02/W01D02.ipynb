{
 "cells": [
  {
   "cell_type": "code",
   "execution_count": 1,
   "id": "8774f919-08cd-4a1a-aeab-7fb5422ef19c",
   "metadata": {},
   "outputs": [
    {
     "name": "stdout",
     "output_type": "stream",
     "text": [
      "True\n"
     ]
    }
   ],
   "source": [
    "# Membership operator\n",
    "\n",
    "list_of_aircrafts = [\"rafale\", \"su30\", \"tejas\", \"miraj\", \"mig27\", \"eurofighter\", \"m-15\"]\n",
    "\n",
    "result = \"m-15\" in list_of_aircrafts\n",
    "print(result)"
   ]
  },
  {
   "cell_type": "code",
   "execution_count": 2,
   "id": "cc172303-cc08-477f-931e-a09c7a2e6524",
   "metadata": {},
   "outputs": [],
   "source": [
    "result = \"m\" in \"m-15\""
   ]
  },
  {
   "cell_type": "code",
   "execution_count": 3,
   "id": "8e2df3c6-199d-4f6a-80fa-e998238889ef",
   "metadata": {},
   "outputs": [
    {
     "name": "stdout",
     "output_type": "stream",
     "text": [
      "True\n"
     ]
    }
   ],
   "source": [
    "print(result)"
   ]
  },
  {
   "cell_type": "code",
   "execution_count": 4,
   "id": "dcc1eb8f-3df0-4407-883a-bcdb511e6fc1",
   "metadata": {},
   "outputs": [
    {
     "name": "stdout",
     "output_type": "stream",
     "text": [
      "True\n"
     ]
    }
   ],
   "source": [
    "# Identitiy Operator\n",
    "\n",
    "a = [1,2]\n",
    "b = a\n",
    "\n",
    "print(a is b)"
   ]
  },
  {
   "cell_type": "code",
   "execution_count": 5,
   "id": "03c52169-5a8d-4106-9c38-6991be4ff17f",
   "metadata": {},
   "outputs": [
    {
     "name": "stdout",
     "output_type": "stream",
     "text": [
      "True\n"
     ]
    }
   ],
   "source": [
    "a = \"mango\"\n",
    "b = \"mango\"\n",
    "\n",
    "print(a is b)"
   ]
  },
  {
   "cell_type": "code",
   "execution_count": 7,
   "id": "47c4c23c-b958-4cea-b423-cc75d5ef7175",
   "metadata": {},
   "outputs": [
    {
     "name": "stdout",
     "output_type": "stream",
     "text": [
      "False\n"
     ]
    }
   ],
   "source": [
    "a = \"mango\"\n",
    "b = \"apple\"\n",
    "\n",
    "print(a is b)"
   ]
  },
  {
   "cell_type": "code",
   "execution_count": 9,
   "id": "635594fc-bdd0-4a8a-b588-6d9e1dfd66cf",
   "metadata": {},
   "outputs": [
    {
     "name": "stdin",
     "output_type": "stream",
     "text": [
      "Give me a Username Shankar\n",
      "Please Enter your email Id now shankar@gmail.com\n",
      "Please Enter Your Class 12\n",
      "Please give me the sn no of the book 334455\n"
     ]
    },
    {
     "name": "stdout",
     "output_type": "stream",
     "text": [
      "Book Issues Successfully!\n"
     ]
    }
   ],
   "source": [
    "# application form\n",
    "\n",
    "username = input(\"Give me a Username\")\n",
    "\n",
    "email = input(\"Please Enter your email Id now\")\n",
    "\n",
    "class_name = input(\"Please Enter Your Class\")\n",
    "\n",
    "book_to_issue = input(\"Please give me the sn no of the book\")\n",
    "\n",
    "\n",
    "print(f\"Book Issued Successfully!\")"
   ]
  },
  {
   "cell_type": "code",
   "execution_count": 13,
   "id": "162158ac-9fb0-4a31-aac0-3f2ec3468965",
   "metadata": {},
   "outputs": [
    {
     "name": "stdout",
     "output_type": "stream",
     "text": [
      "<class 'str'> <class 'str'> <class 'str'>\n"
     ]
    }
   ],
   "source": [
    "# Strings\n",
    "\n",
    "x = \"Mohit is my name\"\n",
    "\n",
    "y = \"\"\"Mohit is my name\"\"\"\n",
    "\n",
    "z = 'Rohit is my brother'\n",
    "print(type(x), type(y), type(z))"
   ]
  },
  {
   "cell_type": "code",
   "execution_count": 14,
   "id": "22c5a3df-7c02-4999-a19c-afac31ceef60",
   "metadata": {},
   "outputs": [
    {
     "ename": "SyntaxError",
     "evalue": "unterminated string literal (detected at line 3) (893117937.py, line 3)",
     "output_type": "error",
     "traceback": [
      "  \u001b[36mCell\u001b[39m\u001b[36m \u001b[39m\u001b[32mIn[14]\u001b[39m\u001b[32m, line 3\u001b[39m\n\u001b[31m    \u001b[39m\u001b[31mx = \"Give me a Username Shankar\u001b[39m\n        ^\n\u001b[31mSyntaxError\u001b[39m\u001b[31m:\u001b[39m unterminated string literal (detected at line 3)\n"
     ]
    }
   ],
   "source": [
    "# Strings\n",
    "\n",
    "x = \"Give me a Username Shankar\n",
    "Please Enter your email Id now shankar@gmail.com\n",
    "Please Enter Your Class 12\n",
    "Please give me the sn no of the book 334455\n",
    "Book Issues Successfully!\"\n"
   ]
  },
  {
   "cell_type": "code",
   "execution_count": 15,
   "id": "685b7606-3b38-4a64-b74d-b9ae7cca3844",
   "metadata": {},
   "outputs": [],
   "source": [
    "\n",
    "y = \"\"\"Give me a Username Shankar\n",
    "Please Enter your email Id now shankar@gmail.com\n",
    "Please Enter Your Class 12\n",
    "Please give me the sn no of the book 334455\n",
    "Book Issues Successfully!\"\"\"\n"
   ]
  },
  {
   "cell_type": "code",
   "execution_count": 16,
   "id": "85c565e3-b28a-40e3-b621-46de132bd78e",
   "metadata": {},
   "outputs": [
    {
     "ename": "SyntaxError",
     "evalue": "unterminated string literal (detected at line 1) (1950798993.py, line 1)",
     "output_type": "error",
     "traceback": [
      "  \u001b[36mCell\u001b[39m\u001b[36m \u001b[39m\u001b[32mIn[16]\u001b[39m\u001b[32m, line 1\u001b[39m\n\u001b[31m    \u001b[39m\u001b[31mz = 'Give me a Username Shankar\u001b[39m\n        ^\n\u001b[31mSyntaxError\u001b[39m\u001b[31m:\u001b[39m unterminated string literal (detected at line 1)\n"
     ]
    }
   ],
   "source": [
    "\n",
    "z = 'Give me a Username Shankar\n",
    "Please Enter your email Id now shankar@gmail.com\n",
    "Please Enter Your Class 12\n",
    "Please give me the sn no of the book 334455\n",
    "Book Issues Successfully!'\n"
   ]
  },
  {
   "cell_type": "code",
   "execution_count": 17,
   "id": "82ddac3a-32d8-4307-944b-d833066cb6be",
   "metadata": {},
   "outputs": [],
   "source": [
    "# For multiple line strings, use triple quotes."
   ]
  },
  {
   "cell_type": "code",
   "execution_count": 18,
   "id": "118de8f6-3656-493c-ae34-cbeef71a7e4c",
   "metadata": {},
   "outputs": [],
   "source": [
    "\n",
    "z = \"Give me a User's name Shankar\"\n",
    "a = 'Mohit is \"happy'"
   ]
  },
  {
   "cell_type": "code",
   "execution_count": 19,
   "id": "3a1c2fba-c08f-4798-ba15-af06d589712f",
   "metadata": {},
   "outputs": [],
   "source": [
    "# Basic Operations of Strings:\n",
    "\n",
    "# 1) Length of String:- len(\"mango\")"
   ]
  },
  {
   "cell_type": "code",
   "execution_count": 20,
   "id": "56dfef42-dc0c-4924-baaa-626b35aadd60",
   "metadata": {},
   "outputs": [
    {
     "data": {
      "text/plain": [
       "5"
      ]
     },
     "execution_count": 20,
     "metadata": {},
     "output_type": "execute_result"
    }
   ],
   "source": [
    "len(\"mango\")"
   ]
  },
  {
   "cell_type": "code",
   "execution_count": 21,
   "id": "737b7ad4-fdeb-475e-96fe-ea11c1971653",
   "metadata": {},
   "outputs": [
    {
     "name": "stdout",
     "output_type": "stream",
     "text": [
      "Rafal\n"
     ]
    }
   ],
   "source": [
    "# 2. Slicing\n",
    "\n",
    "text = \"Rafale is a fighter jet\"\n",
    "\n",
    "result = text[0:5]\n",
    "print(result)"
   ]
  },
  {
   "cell_type": "code",
   "execution_count": 22,
   "id": "9263a270-4cb8-4d07-bcab-e6aeb5ff1253",
   "metadata": {},
   "outputs": [
    {
     "name": "stdout",
     "output_type": "stream",
     "text": [
      "mango is a good fruit\n"
     ]
    }
   ],
   "source": [
    "# 3) Concatenation\n",
    "\n",
    "\n",
    "text1 = \"mango\"\n",
    "text2 = \" is a good fruit\"\n",
    "\n",
    "print(text1 + text2)"
   ]
  },
  {
   "cell_type": "code",
   "execution_count": 23,
   "id": "f2355c08-cb5e-4393-adb0-64e4c6db6b6c",
   "metadata": {},
   "outputs": [
    {
     "name": "stdout",
     "output_type": "stream",
     "text": [
      "mango is a good fruit\n"
     ]
    }
   ],
   "source": [
    "result = text1 + text2\n",
    "print(result)"
   ]
  },
  {
   "cell_type": "code",
   "execution_count": 25,
   "id": "dc4e4a90-6539-4686-98ae-706694e057c3",
   "metadata": {},
   "outputs": [
    {
     "name": "stdout",
     "output_type": "stream",
     "text": [
      "PYTHON python\n"
     ]
    }
   ],
   "source": [
    "text = \"Python\"\n",
    "\n",
    "result = text.upper()\n",
    "result2 = text.lower()\n",
    "\n",
    "print(result, result2)"
   ]
  },
  {
   "cell_type": "code",
   "execution_count": null,
   "id": "6d8824ac-dbac-4461-8a07-ea7372f7995a",
   "metadata": {},
   "outputs": [],
   "source": [
    "x = \" Hello   \"\n",
    "\n",
    "print(len(x))\n",
    "\n",
    "# y = x.count(\"ll\")\n",
    "y = x.strip()\n",
    "\n",
    "print(y, len(y))\n",
    "\n",
    "z = x.lstrip()\n",
    "\n",
    "print(z, len(z))"
   ]
  },
  {
   "cell_type": "code",
   "execution_count": 26,
   "id": "4442f869-c120-4a91-ba1d-6e854c9a82b3",
   "metadata": {},
   "outputs": [
    {
     "name": "stdout",
     "output_type": "stream",
     "text": [
      "Messi is a good football player\n"
     ]
    }
   ],
   "source": [
    "text = \"Ronaldo is a good football player\"\n",
    "\n",
    "text2 = text.replace(\"Ronaldo\", \"Messi\")\n",
    "\n",
    "print(text2)"
   ]
  },
  {
   "cell_type": "code",
   "execution_count": 27,
   "id": "3be9d576-a2c1-4d6e-a5de-ba68cde59064",
   "metadata": {},
   "outputs": [
    {
     "name": "stdout",
     "output_type": "stream",
     "text": [
      "False\n",
      "True\n"
     ]
    }
   ],
   "source": [
    "# print('hello world')\n",
    "x = \"#@#$\"\n",
    "y = \"Tango\"\n",
    "\n",
    "\n",
    "print(x.isalpha())\n",
    "\n",
    "print(y.isalpha())"
   ]
  },
  {
   "cell_type": "markdown",
   "id": "2309ce7d-3da3-44db-aa25-a428d3dc6c3c",
   "metadata": {},
   "source": [
    "# First Program Exercise\n",
    "\n",
    "### Take Marks for each subject like Maths and English. \n",
    "### Print the Result of the Student whether he passed or failed. Percentage should be > 33.\n",
    "\n"
   ]
  },
  {
   "cell_type": "code",
   "execution_count": 30,
   "id": "2d23443c-f007-440e-a4b6-119865e89678",
   "metadata": {},
   "outputs": [
    {
     "name": "stdin",
     "output_type": "stream",
     "text": [
      "English Marks 48\n",
      "Match Marks 54\n"
     ]
    },
    {
     "name": "stdout",
     "output_type": "stream",
     "text": [
      "Passed\n"
     ]
    }
   ],
   "source": [
    "# 7: 56\n",
    "\n",
    "# Type Casting:- convert 1 form of data type into another.\n",
    "\n",
    "\n",
    "actual_total = 200\n",
    "\n",
    "english_marks = int(input(\"English Marks\"))\n",
    "\n",
    "maths_marks = int(input(\"Match Marks\"))\n",
    "\n",
    "total = english_marks + maths_marks\n",
    "\n",
    "percentage = (total/actual_total)*100\n",
    "\n",
    "if percentage > 33:\n",
    "    print(\"Passed\")\n",
    "else:\n",
    "    print(\"Failed\")"
   ]
  },
  {
   "cell_type": "markdown",
   "id": "fe2dff76-8e35-46fb-b951-3d931be4ea05",
   "metadata": {},
   "source": [
    "# Conditional statements (if, elif, else)"
   ]
  },
  {
   "cell_type": "code",
   "execution_count": 32,
   "id": "f2b0cdff-fd4c-455c-9e5a-296c0dc1a4d1",
   "metadata": {},
   "outputs": [
    {
     "name": "stdout",
     "output_type": "stream",
     "text": [
      "sad\n"
     ]
    }
   ],
   "source": [
    "x = 100\n",
    "\n",
    "if x > 200:\n",
    "    print(\"happy\")\n",
    "else:\n",
    "    print(\"sad\")"
   ]
  },
  {
   "cell_type": "code",
   "execution_count": 35,
   "id": "9d8ce038-3737-4813-b334-e8685244921e",
   "metadata": {},
   "outputs": [
    {
     "name": "stdout",
     "output_type": "stream",
     "text": [
      "happy\n",
      "happy happy happy\n"
     ]
    }
   ],
   "source": [
    "x = 300\n",
    "\n",
    "if x > 200:\n",
    "    print(\"happy\")\n",
    "    print(\"happy happy happy\")\n",
    "else:\n",
    "    print(\"sad\")"
   ]
  },
  {
   "cell_type": "code",
   "execution_count": 38,
   "id": "84a812d9-ec54-42d2-b6a0-4fee5327a39a",
   "metadata": {},
   "outputs": [
    {
     "name": "stdout",
     "output_type": "stream",
     "text": [
      "happy\n",
      "happy happy happy\n",
      "Hey I am after the if else conditions\n"
     ]
    }
   ],
   "source": [
    "x = 300\n",
    "\n",
    "if x > 200:\n",
    "    print(\"happy\")\n",
    "    print(\"happy happy happy\")\n",
    "elif x == 300:\n",
    "    print('wow I am here')\n",
    "else:\n",
    "    print(\"sad\")\n",
    "\n",
    "print('Hey I am after the if else conditions')\n"
   ]
  },
  {
   "cell_type": "code",
   "execution_count": 39,
   "id": "f9d03014-cd6c-4b99-90d9-c6b0ba694026",
   "metadata": {},
   "outputs": [
    {
     "name": "stdout",
     "output_type": "stream",
     "text": [
      "wow I am here\n",
      "Hey I am after the if else conditions\n"
     ]
    }
   ],
   "source": [
    "x = 300\n",
    "\n",
    "if x < 200:\n",
    "    print(\"happy\")\n",
    "    print(\"happy happy happy\")\n",
    "elif x == 300:\n",
    "    print('wow I am here')\n",
    "else:\n",
    "    print(\"sad\")\n",
    "\n",
    "print('Hey I am after the if else conditions')\n"
   ]
  },
  {
   "cell_type": "code",
   "execution_count": 44,
   "id": "2c21d556-e2bd-48f9-be2d-e0ba50f0357c",
   "metadata": {},
   "outputs": [
    {
     "name": "stdout",
     "output_type": "stream",
     "text": [
      "happy that I found 2\n",
      "Hey I am after the if else conditions\n"
     ]
    }
   ],
   "source": [
    "x = \"The quick brown fox has 2 children\"\n",
    "\n",
    "if \"56\" in x:\n",
    "    print(\"happy\")\n",
    "    print(\"happy happy happy\")\n",
    "elif x == 300:\n",
    "    print('wow I am here')\n",
    "elif \"2\" in x:\n",
    "    print('happy that I found 2')\n",
    "else:\n",
    "    print(\"sad\")\n",
    "\n",
    "print('Hey I am after the if else conditions')"
   ]
  },
  {
   "cell_type": "code",
   "execution_count": 49,
   "id": "152e4b46-4374-482e-a95a-b6f2ff2fe7fa",
   "metadata": {},
   "outputs": [
    {
     "name": "stdout",
     "output_type": "stream",
     "text": [
      "party\n",
      "x is 2\n"
     ]
    }
   ],
   "source": [
    "# 4 spaces here are indentation which is used to separate or notify a code block\n",
    "\n",
    "x = 2\n",
    "if x == 4:\n",
    "    print('x is 4')\n",
    "\n",
    "print('party')\n",
    "\n",
    "if x == 2:\n",
    "    print('x is 2')"
   ]
  },
  {
   "cell_type": "code",
   "execution_count": 51,
   "id": "957c683e-d98e-4f10-ba82-a6e0002ce1f5",
   "metadata": {},
   "outputs": [
    {
     "name": "stdout",
     "output_type": "stream",
     "text": [
      "<class 'str'> <class 'int'>\n"
     ]
    }
   ],
   "source": [
    "# type casting\n",
    "x = \"43\"\n",
    "y = int(x)\n",
    "\n",
    "print(type(x), type(y))"
   ]
  },
  {
   "cell_type": "code",
   "execution_count": 56,
   "id": "6d9e1249-86e4-4ee7-be36-b44de5da120b",
   "metadata": {},
   "outputs": [
    {
     "name": "stdout",
     "output_type": "stream",
     "text": [
      "{'T': 1, 'h': 1, 'e': 2, ' ': 8, 'q': 1, 'u': 2, 'i': 1, 'c': 1, 'k': 1, 'b': 1, 'r': 2, 'o': 4, 'w': 1, 'n': 1, 'f': 1, 'x': 1, 'j': 1, 'm': 1, 'p': 1, 's': 1, 'v': 1, 'a': 2, 'l': 1, 'z': 1, 'y': 1, 'd': 1, 'g': 1}\n"
     ]
    }
   ],
   "source": [
    "# Count the no of times a specific character appears in a string.\n",
    "\n",
    "text1 = \"The quick brown fox jumps over a lazy dog\"\n",
    "\n",
    "# since I have to store a mapping of character to the count, dict is a good choice to use.\n",
    "\n",
    "\n",
    "dictionary1 = {}\n",
    "\n",
    "for char in text1:\n",
    "    if dictionary1.get(char):\n",
    "        dictionary1[char] = dictionary1.get(char) + 1\n",
    "    else:\n",
    "        dictionary1[char] = 1\n",
    "\n",
    "print(dictionary1)"
   ]
  },
  {
   "cell_type": "code",
   "execution_count": 55,
   "id": "f4325c80-d2ca-4b59-8783-9ed7df662d2c",
   "metadata": {},
   "outputs": [
    {
     "data": {
      "text/plain": [
       "False"
      ]
     },
     "execution_count": 55,
     "metadata": {},
     "output_type": "execute_result"
    }
   ],
   "source": [
    "dictionary1 = {\"m\": 35}\n",
    "\n",
    "dictionary1.get(\"m\") is True"
   ]
  },
  {
   "cell_type": "markdown",
   "id": "1d4fa6c8-b05f-4f3f-8783-5f86795e5017",
   "metadata": {},
   "source": [
    "## LOOPS"
   ]
  },
  {
   "cell_type": "code",
   "execution_count": 57,
   "id": "2b5695e7-9442-4f43-a4f7-61ab3a08ff3f",
   "metadata": {},
   "outputs": [
    {
     "name": "stdout",
     "output_type": "stream",
     "text": [
      "rafale\n",
      "su30\n",
      "tejas\n",
      "miraj\n",
      "mig27\n",
      "eurofighter\n",
      "m-15\n"
     ]
    }
   ],
   "source": [
    "# FOR LOOP\n",
    "\n",
    "aircrafts = [\"rafale\", \"su30\", \"tejas\", \"miraj\", \"mig27\", \"eurofighter\", \"m-15\"]\n",
    "\n",
    "for air_craft_name in aircrafts:\n",
    "    print(air_craft_name)"
   ]
  },
  {
   "cell_type": "code",
   "execution_count": 65,
   "id": "4f760dac-84a6-433f-ba31-c4fbd7d7acdb",
   "metadata": {},
   "outputs": [
    {
     "name": "stdout",
     "output_type": "stream",
     "text": [
      "1034\n",
      "mango\n",
      "happy\n",
      "1045\n",
      "mango\n",
      "happy\n",
      "1123\n",
      "mango\n",
      "happy\n",
      "1554\n",
      "mango\n",
      "happy\n",
      "The list is completed\n"
     ]
    }
   ],
   "source": [
    "numbers = [34, 45, 123, 554]\n",
    "\n",
    "for num in numbers:\n",
    "    print(num+1000)\n",
    "    print(\"mango\")\n",
    "    print('happy')\n",
    "\n",
    "print('The list is completed')\n",
    "    # print('happy')"
   ]
  },
  {
   "cell_type": "code",
   "execution_count": 66,
   "id": "4a8de144-eb68-4c07-8e7b-b6d97ef7b265",
   "metadata": {},
   "outputs": [
    {
     "name": "stdout",
     "output_type": "stream",
     "text": [
      "current sum_of_numbers = 34\n",
      "current sum_of_numbers = 79\n",
      "current sum_of_numbers = 202\n",
      "current sum_of_numbers = 756\n",
      "756\n"
     ]
    }
   ],
   "source": [
    "numbers = [34, 45, 123, 554]\n",
    "\n",
    "sum_of_numbers = 0\n",
    "\n",
    "for num in numbers:\n",
    "    sum_of_numbers = sum_of_numbers + num\n",
    "    print(f\"current sum_of_numbers = {sum_of_numbers}\")\n",
    "\n",
    "print(sum_of_numbers)"
   ]
  },
  {
   "cell_type": "code",
   "execution_count": 70,
   "id": "a3c76ed6-a4df-44f3-bd1f-66b7417fb3cf",
   "metadata": {},
   "outputs": [
    {
     "name": "stdout",
     "output_type": "stream",
     "text": [
      "34\n",
      "45\n",
      "123\n",
      "554\n"
     ]
    }
   ],
   "source": [
    "numbers = [34, 45, 123, 554]\n",
    "\n",
    "sum_of_numbers = 0\n",
    "\n",
    "for num in numbers:\n",
    "    print(num)\n",
    "    # sum_of_numbers += num\n",
    "    # print(f\"current sum_of_numbers = {sum_of_numbers}\")\n",
    "\n",
    "# print(sum_of_numbers)"
   ]
  },
  {
   "cell_type": "code",
   "execution_count": null,
   "id": "12387c6a-6d99-457f-8bd8-5c0f1d072850",
   "metadata": {},
   "outputs": [],
   "source": [
    "numbers = [34, 45, 123, 554]\n",
    "\n",
    "sum_of_numbers = 0\n",
    "\n",
    "for num in numbers:\n",
    "    sum_of_numbers = sum_of_numbers + num\n",
    "    print(f\"current sum_of_numbers = {sum_of_numbers}\")\n",
    "\n",
    "print(sum_of_numbers)"
   ]
  },
  {
   "cell_type": "code",
   "execution_count": null,
   "id": "5f74ef27-f998-48c1-9cd0-a66822abf346",
   "metadata": {},
   "outputs": [],
   "source": [
    "numbers = [34, 45, 123, 554]\n",
    "\n",
    "sum_of_numbers = 0\n",
    "\n",
    "for num in numbers:\n",
    "    print(num)\n",
    "    # sum_of_numbers += num\n",
    "    # print(f\"current sum_of_numbers = {sum_of_numbers}\")\n",
    "\n",
    "# print(sum_of_numbers)"
   ]
  },
  {
   "cell_type": "code",
   "execution_count": 71,
   "id": "82ab7da7-cee3-4584-97de-3aca9596f212",
   "metadata": {},
   "outputs": [
    {
     "name": "stdout",
     "output_type": "stream",
     "text": [
      "34\n",
      "45\n"
     ]
    }
   ],
   "source": [
    "# Slicing in Lists\n",
    "\n",
    "numbers = [34, 45, 123, 554]\n",
    "\n",
    "sum_of_numbers = 0\n",
    "\n",
    "for num in numbers[0:2]:\n",
    "    print(num)\n",
    "\n",
    "# print(sum_of_numbers)"
   ]
  },
  {
   "cell_type": "code",
   "execution_count": 77,
   "id": "d3d5877f-999b-4706-9329-fe84b9b99bc1",
   "metadata": {},
   "outputs": [
    {
     "name": "stdout",
     "output_type": "stream",
     "text": [
      "num 340\n",
      "now max num is 340\n",
      "num 45\n",
      "now max num is 340\n",
      "num 123\n",
      "now max num is 340\n",
      "num 554\n",
      "now max num is 554\n",
      "554\n"
     ]
    }
   ],
   "source": [
    "# Finding out the maximum Number\n",
    "# Homework: Find out the minimum Number\n",
    "\n",
    "numbers = [340, 45, 123, 554]\n",
    "\n",
    "maximum_number = float('-inf')\n",
    "\n",
    "for num in numbers:\n",
    "    print('num', num)\n",
    "    if num > maximum_number:\n",
    "        maximum_number = num\n",
    "    print('now max num is', maximum_number)\n",
    "\n",
    "print(maximum_number)"
   ]
  },
  {
   "cell_type": "code",
   "execution_count": 73,
   "id": "3413a664-2994-4896-a0cb-9a5df3f368f0",
   "metadata": {},
   "outputs": [
    {
     "name": "stdout",
     "output_type": "stream",
     "text": [
      "inf\n"
     ]
    }
   ],
   "source": [
    "maximum_number = float('inf')\n",
    "print(maximum_number)"
   ]
  },
  {
   "cell_type": "code",
   "execution_count": 78,
   "id": "04137f10-8ba0-49e8-bdeb-3928ad633fb5",
   "metadata": {},
   "outputs": [
    {
     "name": "stdout",
     "output_type": "stream",
     "text": [
      "num 340\n",
      "now max num is 340\n",
      "num 45\n",
      "now max num is 340\n",
      "num 123\n",
      "now max num is 340\n",
      "num 554\n",
      "now max num is 554\n",
      "554\n"
     ]
    }
   ],
   "source": [
    "# Finding out the maximum Number\n",
    "# Homework: Find out the minimum Number\n",
    "\n",
    "numbers = [340, 45, 123, 554]\n",
    "\n",
    "if len(numbers) != 0:\n",
    "    maximum_number = numbers[0]\n",
    "\n",
    "for num in numbers:\n",
    "    print('num', num)\n",
    "    if num > maximum_number:\n",
    "        maximum_number = num\n",
    "    print('now max num is', maximum_number)\n",
    "\n",
    "print(maximum_number)"
   ]
  },
  {
   "cell_type": "code",
   "execution_count": 79,
   "id": "cbcd2393-c3f0-4525-a9c4-575c9943c701",
   "metadata": {},
   "outputs": [
    {
     "data": {
      "text/plain": [
       "'\\nThis is also a comment but a multiline 1.\\nLine 2\\nLine 3\\n'"
      ]
     },
     "execution_count": 79,
     "metadata": {},
     "output_type": "execute_result"
    }
   ],
   "source": [
    "# comment for humans and not for machine\n",
    "# docstring is multi line comment\n",
    "\n",
    "\"\"\"\n",
    "This is also a comment but a multiline 1.\n",
    "Line 2\n",
    "Line 3\n",
    "\"\"\"\n"
   ]
  },
  {
   "cell_type": "code",
   "execution_count": null,
   "id": "c72cbf6c-0052-4ebd-9108-753375cb1dc7",
   "metadata": {},
   "outputs": [],
   "source": []
  }
 ],
 "metadata": {
  "kernelspec": {
   "display_name": "Python 3 (ipykernel)",
   "language": "python",
   "name": "python3"
  },
  "language_info": {
   "codemirror_mode": {
    "name": "ipython",
    "version": 3
   },
   "file_extension": ".py",
   "mimetype": "text/x-python",
   "name": "python",
   "nbconvert_exporter": "python",
   "pygments_lexer": "ipython3",
   "version": "3.13.2"
  }
 },
 "nbformat": 4,
 "nbformat_minor": 5
}
